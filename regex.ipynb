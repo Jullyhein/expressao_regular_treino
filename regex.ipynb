{
  "nbformat": 4,
  "nbformat_minor": 0,
  "metadata": {
    "colab": {
      "provenance": [],
      "authorship_tag": "ABX9TyPVcjBg7mESPORbcI8610+Q",
      "include_colab_link": true
    },
    "kernelspec": {
      "name": "python3",
      "display_name": "Python 3"
    },
    "language_info": {
      "name": "python"
    }
  },
  "cells": [
    {
      "cell_type": "markdown",
      "metadata": {
        "id": "view-in-github",
        "colab_type": "text"
      },
      "source": [
        "<a href=\"https://colab.research.google.com/github/Jullyhein/expressao_regular_treino/blob/main/regex.ipynb\" target=\"_parent\"><img src=\"https://colab.research.google.com/assets/colab-badge.svg\" alt=\"Open In Colab\"/></a>"
      ]
    },
    {
      "cell_type": "code",
      "execution_count": 7,
      "metadata": {
        "id": "ri_4TebQSLtM"
      },
      "outputs": [],
      "source": [
        "import re"
      ]
    },
    {
      "cell_type": "code",
      "source": [
        "frase = \"Meu telefone é (00)90765-0000\""
      ],
      "metadata": {
        "id": "-jqfi45vSmFY"
      },
      "execution_count": 20,
      "outputs": []
    },
    {
      "cell_type": "code",
      "source": [
        "resultado_01 = re.search('\\(\\d{2}\\)\\d{4,5}-\\d{4}', frase)"
      ],
      "metadata": {
        "id": "ra7gizYuSuiS"
      },
      "execution_count": 23,
      "outputs": []
    },
    {
      "cell_type": "code",
      "source": [
        "if resultado_01:\n",
        "    print(\"Telefone encontrado:\", resultado_01.group())\n",
        "else:\n",
        "    print(\"Nenhum telefone encontrado.\")"
      ],
      "metadata": {
        "colab": {
          "base_uri": "https://localhost:8080/"
        },
        "id": "xOAyBY-HVL2b",
        "outputId": "30dbb4b3-3a70-47c6-a53a-dc7fbe2adc7d"
      },
      "execution_count": 22,
      "outputs": [
        {
          "output_type": "stream",
          "name": "stdout",
          "text": [
            "Telefone encontrado: (00)90765-0000\n"
          ]
        }
      ]
    },
    {
      "cell_type": "code",
      "source": [
        "frase_02= \"a placa do carro que eu anotei durante o acidente foi OXO-1987\""
      ],
      "metadata": {
        "id": "_M5AI3xtT-9g"
      },
      "execution_count": 15,
      "outputs": []
    },
    {
      "cell_type": "code",
      "source": [
        "resultado = re.search('[A-Za-z]{3}-\\d{4}', frase_02)"
      ],
      "metadata": {
        "id": "KXmCAP8UUQGs"
      },
      "execution_count": 16,
      "outputs": []
    },
    {
      "cell_type": "code",
      "source": [
        "if resultado:\n",
        "    print(\"Placa encontrada:\", resultado.group())\n",
        "else:\n",
        "    print(\"Nenhuma placa encontrada.\")"
      ],
      "metadata": {
        "colab": {
          "base_uri": "https://localhost:8080/"
        },
        "id": "XIHgk8AKU-0W",
        "outputId": "4eb36b38-a821-4c75-f764-ece0b69a014c"
      },
      "execution_count": 26,
      "outputs": [
        {
          "output_type": "stream",
          "name": "stdout",
          "text": [
            "Nenhuma placa encontrada.\n"
          ]
        }
      ]
    },
    {
      "cell_type": "code",
      "source": [
        "email= \"Meu e-mail para contato para oferta de trabalho é jullyen@soso.com.br\""
      ],
      "metadata": {
        "id": "HveoGSN0Vrqr"
      },
      "execution_count": 24,
      "outputs": []
    },
    {
      "cell_type": "code",
      "source": [
        "resultado_03 = re.search('\\w+@\\w+\\.com', email)"
      ],
      "metadata": {
        "id": "E1V_GmX_V1Tz"
      },
      "execution_count": 25,
      "outputs": []
    },
    {
      "cell_type": "code",
      "source": [
        "if resultado_03:\n",
        "    print(\"email encontrado:\", resultado_03.group())\n",
        "else:\n",
        "    print(\"Nenhum email encontrado.\")"
      ],
      "metadata": {
        "colab": {
          "base_uri": "https://localhost:8080/"
        },
        "id": "V4MhZyXPWJ66",
        "outputId": "6c14e773-069c-4900-bd12-31f8c551eec5"
      },
      "execution_count": 27,
      "outputs": [
        {
          "output_type": "stream",
          "name": "stdout",
          "text": [
            "email encontrado: jullyen@soso.com\n"
          ]
        }
      ]
    },
    {
      "cell_type": "markdown",
      "source": [
        "Crie expressões regulares para extrair as seguintes informações do texto abaixo (use a função findall):\n",
        "- Números\n",
        "- CEPs\n",
        "- URLs"
      ],
      "metadata": {
        "id": "Ygw-IGnCZX-y"
      }
    },
    {
      "cell_type": "code",
      "source": [
        "numerotelefone = \"meu telefone é (11)9888-0000\""
      ],
      "metadata": {
        "id": "BT3R8TXqZYxe"
      },
      "execution_count": 47,
      "outputs": []
    },
    {
      "cell_type": "code",
      "source": [
        "resultado = re.findall('\\(\\d{2}\\)\\d{4-5}-\\d{4}', numerotelefone)"
      ],
      "metadata": {
        "id": "oX6nNF1kZ0fd"
      },
      "execution_count": 48,
      "outputs": []
    },
    {
      "cell_type": "code",
      "source": [
        "if resultado:\n",
        "  print(\"numero encontrado\", resultado.group())\n",
        "else:\n",
        "  print(\"Nada encontrado\")"
      ],
      "metadata": {
        "colab": {
          "base_uri": "https://localhost:8080/"
        },
        "id": "RoquUm2GaGAI",
        "outputId": "1bf41e03-f4d8-464b-a44f-5b0ce85e883a"
      },
      "execution_count": 49,
      "outputs": [
        {
          "output_type": "stream",
          "name": "stdout",
          "text": [
            "Nada encontrado\n"
          ]
        }
      ]
    },
    {
      "cell_type": "code",
      "source": [
        "cep = \"meu cep é 06315-090\""
      ],
      "metadata": {
        "id": "m4zztyAPbf7r"
      },
      "execution_count": 50,
      "outputs": []
    },
    {
      "cell_type": "code",
      "source": [
        "padraocep = r'\\b(\\d{5}\\-\\d{3}\\b)'"
      ],
      "metadata": {
        "id": "nsYXwaPncXKT"
      },
      "execution_count": 55,
      "outputs": []
    },
    {
      "cell_type": "code",
      "source": [
        "resul = re.findall(padraocep, cep)"
      ],
      "metadata": {
        "id": "7vZwNrp9blUv"
      },
      "execution_count": 63,
      "outputs": []
    },
    {
      "cell_type": "code",
      "source": [
        "print(resul)"
      ],
      "metadata": {
        "colab": {
          "base_uri": "https://localhost:8080/"
        },
        "id": "JvV_lEU-b9uu",
        "outputId": "22be30fb-eb9d-4efd-ae90-c85d2a49c99a"
      },
      "execution_count": 64,
      "outputs": [
        {
          "output_type": "stream",
          "name": "stdout",
          "text": [
            "['06315-090']\n"
          ]
        }
      ]
    },
    {
      "cell_type": "code",
      "source": [
        "site = \"Anota meu site por gentileza: www.frutanopalito.com.br\""
      ],
      "metadata": {
        "id": "Tgi28UCoc6BY"
      },
      "execution_count": 67,
      "outputs": []
    },
    {
      "cell_type": "code",
      "source": [
        "urlpadrao = r'\\bwww\\.[a-zA-Z0-9./]+'"
      ],
      "metadata": {
        "id": "dElq0i4kdVag"
      },
      "execution_count": 68,
      "outputs": []
    },
    {
      "cell_type": "code",
      "source": [
        "resultados=re.findall(urlpadrao, site)\n",
        "print(resultados)"
      ],
      "metadata": {
        "colab": {
          "base_uri": "https://localhost:8080/"
        },
        "id": "ndhsGoKFg940",
        "outputId": "65333181-8078-4caf-e6ce-9cdef1263172"
      },
      "execution_count": 69,
      "outputs": [
        {
          "output_type": "stream",
          "name": "stdout",
          "text": [
            "['www.frutanopalito.com.br']\n"
          ]
        }
      ]
    },
    {
      "cell_type": "code",
      "source": [],
      "metadata": {
        "id": "_a273hu3hM73"
      },
      "execution_count": null,
      "outputs": []
    }
  ]
}